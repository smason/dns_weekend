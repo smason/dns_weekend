{
 "cells": [
  {
   "cell_type": "code",
   "execution_count": 1,
   "id": "2fa585d0",
   "metadata": {},
   "outputs": [],
   "source": [
    "%load_ext autoreload\n",
    "\n",
    "%autoreload 2\n",
    "\n",
    "import dns_weekend"
   ]
  },
  {
   "cell_type": "code",
   "execution_count": 2,
   "id": "6142f032",
   "metadata": {},
   "outputs": [
    {
     "name": "stdout",
     "output_type": "stream",
     "text": [
      "known='google.com' buf=b'\\x06google\\x03com\\x00' name='google.com' offset=12\n"
     ]
    }
   ],
   "source": [
    "import pytest\n",
    "\n",
    "known = 'google.com'\n",
    "buf = b''.join(dns_weekend._encode_name(known))\n",
    "\n",
    "name, offset = dns_weekend._decode_name(buf)\n",
    "print(f'{known=} {buf=} {name=} {offset=}')\n",
    "\n",
    "assert name == known\n",
    "assert buf[offset:] == b''\n",
    "\n",
    "# make sure compression works\n",
    "name, offset = dns_weekend._decode_name(b'\\xc0\\x02\\x07example\\x03com\\x00')\n",
    "assert name == 'example.com'\n",
    "assert offset == 2\n",
    "\n",
    "# make sure infinite references are rejected\n",
    "for test in (b'\\xc0\\x00', b'\\x07example\\x03com\\xc0\\x08'):\n",
    "    with pytest.raises(ValueError):\n",
    "        dns_weekend._decode_name(test)"
   ]
  },
  {
   "cell_type": "code",
   "execution_count": 3,
   "id": "7dda0861",
   "metadata": {},
   "outputs": [
    {
     "name": "stdout",
     "output_type": "stream",
     "text": [
      "b'M\\x0f\\x01\\x00\\x00\\x01\\x00\\x00\\x00\\x00\\x00\\x00\\x07example\\x03com\\x00\\x00\\x01\\x00\\x01'\n",
      "Header(id=19727, flags=256, questions=[Question(name='example.com', type_=<DnsType.A: 1>, class_=<DnsClass.IN: 1>)], answers=[], authorities=[], additionals=[])\n"
     ]
    }
   ],
   "source": [
    "query = dns_weekend.make_question('example.com')\n",
    "print(query)\n",
    "print(dns_weekend.decode_response(query))"
   ]
  },
  {
   "cell_type": "code",
   "execution_count": 4,
   "id": "f4a639df",
   "metadata": {},
   "outputs": [
    {
     "name": "stdout",
     "output_type": "stream",
     "text": [
      "RecordInetCNAME(name='www.facebook.com', ttl=1250, target='star-mini.c10r.facebook.com')\n",
      "RecordInetAAAA(name='star-mini.c10r.facebook.com', ttl=60, address='2a03:2880:f158:82:face:b00c:0:25de')\n",
      "RecordInetCNAME(name='www.facebook.com', ttl=1250, target='star-mini.c10r.facebook.com')\n",
      "RecordInetA(name='star-mini.c10r.facebook.com', ttl=60, address='157.240.221.35')\n"
     ]
    }
   ],
   "source": [
    "import socket\n",
    "\n",
    "req1, req2 = (\n",
    "    dns_weekend.make_question('www.facebook.com', qtype=t)\n",
    "    for t in 'A AAAA'.split()\n",
    ")\n",
    "\n",
    "with socket.socket(socket.AF_INET, socket.SOCK_DGRAM) as sock:\n",
    "    sock.connect((\"8.8.8.8\", 53))\n",
    "\n",
    "    sock.send(req1)\n",
    "    sock.send(req2)\n",
    "\n",
    "    res1 = sock.recv(1024)\n",
    "    res2 = sock.recv(1024)\n",
    "\n",
    "for ans in dns_weekend.decode_response(res1).answers:\n",
    "    print(ans)\n",
    "\n",
    "for ans in dns_weekend.decode_response(res2).answers:\n",
    "    print(ans)"
   ]
  }
 ],
 "metadata": {
  "kernelspec": {
   "display_name": "Python 3 (ipykernel)",
   "language": "python",
   "name": "python3"
  },
  "language_info": {
   "codemirror_mode": {
    "name": "ipython",
    "version": 3
   },
   "file_extension": ".py",
   "mimetype": "text/x-python",
   "name": "python",
   "nbconvert_exporter": "python",
   "pygments_lexer": "ipython3",
   "version": "3.11.3"
  }
 },
 "nbformat": 4,
 "nbformat_minor": 5
}
